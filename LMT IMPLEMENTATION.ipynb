{
 "cells": [
  {
   "cell_type": "code",
   "execution_count": 1,
   "metadata": {},
   "outputs": [],
   "source": [
    "import pandas as pd\n",
    "import numpy as np\n",
    "from sklearn.model_selection import GridSearchCV,train_test_split,cross_val_score\n",
    "from sklearn.linear_model import Ridge\n",
    "from sklearn.model_selection import cross_val_score\n",
    "from sklearn.model_selection import KFold\n",
    "from sklearn.preprocessing import StandardScaler\n",
    "from sklearn.pipeline import Pipeline\n",
    "from sklearn.model_selection import GridSearchCV\n",
    "from sklearn.linear_model import LogisticRegression\n",
    "import matplotlib.pyplot as plt\n",
    "\n",
    "%matplotlib inline\n",
    "\n",
    "\n",
    "import warnings\n",
    "warnings.filterwarnings('ignore')\n",
    "# Exclude origin for brevity\n",
    "training_columns = ['cylinders','displacement','horsepower','weight',\n",
    "                    'acceleration','model_year']\n",
    "\n",
    "df=pd.read_csv('heart.csv')\n",
    "dataX=df.iloc[:,:-1]\n",
    "datay=df.iloc[:,-1]\n",
    "seed=8\n",
    "X_train, X_test, y_train, y_test =train_test_split(dataX,datay,test_size=0.2,random_state=seed)\n",
    "\n",
    "X = X_train\n",
    "Y = y_train\n",
    "\n",
    "training_columns=X_train.columns"
   ]
  },
  {
   "cell_type": "markdown",
   "metadata": {},
   "source": [
    "## Grid search for best regularization"
   ]
  },
  {
   "cell_type": "code",
   "execution_count": 2,
   "metadata": {},
   "outputs": [
    {
     "name": "stdout",
     "output_type": "stream",
     "text": [
      "Raw ridge\n",
      "-0.1735\n"
     ]
    }
   ],
   "source": [
    "\n",
    "lr = LogisticRegression()\n",
    "#alpha_values = np.array([0.25,0.5,1,2,4,8,16])\n",
    "#param_grid = dict(alpha=alpha_values)\n",
    "#kfold = KFold(n_splits=10, random_state=seed)\n",
    "#grid = GridSearchCV(estimator=lr, param_grid=param_grid, cv=kfold, scoring='neg_mean_squared_error')\n",
    "#grid_result = grid.fit(X, Y)\n",
    "\n",
    "#print(\"Best: %f using %s\" % (grid_result.best_score_, grid_result.best_params_))\n",
    "#grid_result = lr.fit(X, Y)\n",
    "#means = grid_result.cv_results_['mean_test_score']\n",
    "#stds = grid_result.cv_results_['std_test_score']\n",
    "#params = grid_result.cv_results_['params']\n",
    "#for mean, stdev, param in zip(means, stds, params):\n",
    "#    print(\"%f (%f) with: %r\" % (mean, stdev, param))\n",
    "\n",
    "#lr = Ridge(**grid_result.best_params_)\n",
    "\n",
    "lr = LogisticRegression()\n",
    "kfold = KFold(n_splits=10, random_state=seed)\n",
    "scores = cross_val_score(lr, X, Y, cv=kfold, scoring='neg_mean_squared_error')\n",
    "print('Raw ridge')\n",
    "\n",
    "print(scores.mean())\n"
   ]
  },
  {
   "cell_type": "markdown",
   "metadata": {},
   "source": [
    "\n",
    "### Scale inputs"
   ]
  },
  {
   "cell_type": "code",
   "execution_count": 3,
   "metadata": {},
   "outputs": [
    {
     "data": {
      "text/plain": [
       "\"\\nscaled_lr = Pipeline([('Scaler', StandardScaler()),('LR', lr)])\\nscores = cross_val_score(scaled_lr, X, Y, cv=kfold, scoring='neg_mean_squared_error')\\nprint('Scaled ridge')\\nprint(scores.mean())\\ncart_mean_error=scores.mean()\\n\""
      ]
     },
     "execution_count": 3,
     "metadata": {},
     "output_type": "execute_result"
    }
   ],
   "source": [
    "\"\"\"\n",
    "scaled_lr = Pipeline([('Scaler', StandardScaler()),('LR', lr)])\n",
    "scores = cross_val_score(scaled_lr, X, Y, cv=kfold, scoring='neg_mean_squared_error')\n",
    "print('Scaled ridge')\n",
    "print(scores.mean())\n",
    "cart_mean_error=scores.mean()\n",
    "\"\"\""
   ]
  },
  {
   "cell_type": "markdown",
   "metadata": {},
   "source": [
    "\n",
    "**Evaluation results :\n",
    "The cross-validated mean squared error for linear regression is approximately -0.18583 . This will be the baseline.**\n"
   ]
  },
  {
   "cell_type": "markdown",
   "metadata": {},
   "source": [
    "### Linear model insights"
   ]
  },
  {
   "cell_type": "code",
   "execution_count": 4,
   "metadata": {},
   "outputs": [
    {
     "data": {
      "text/plain": [
       "'\\ndef print_coefs(coefs, training_columns):\\n    sorted_idx = np.argsort(-abs(coefs)) # negative for descending\\n    for (name, coef) in zip(np.array(training_columns)[sorted_idx], coefs[sorted_idx]):\\n        print(\"%s: %f\" % (name, coef))\\n\\ndef plot_coefs(coefs, training_columns, title_suffix=\\'\\'):\\n    sorted_idx = np.argsort(abs(coefs))\\n    pos = np.arange(len(coefs)) + .5\\n    plt.subplot(1, 2, 2)\\n    plt.barh(pos, coefs[sorted_idx], align=\\'center\\')\\n    plt.yticks(pos, np.array(training_columns)[sorted_idx])\\n    plt.xlabel(\\'Coef value\\')\\n    plt.title(\\'Coefficents\\' + title_suffix)\\n    plt.xlim(-5.5, 5.5)\\n    plt.show()\\n\\n# use scaled model\\nlr.fit(X, Y)\\nprint_coefs(lr.coef_, training_columns)\\nplot_coefs(lr.coef_, training_columns)\\n\\n'"
      ]
     },
     "execution_count": 4,
     "metadata": {},
     "output_type": "execute_result"
    }
   ],
   "source": [
    "\"\"\"\n",
    "def print_coefs(coefs, training_columns):\n",
    "    sorted_idx = np.argsort(-abs(coefs)) # negative for descending\n",
    "    for (name, coef) in zip(np.array(training_columns)[sorted_idx], coefs[sorted_idx]):\n",
    "        print(\"%s: %f\" % (name, coef))\n",
    "\n",
    "def plot_coefs(coefs, training_columns, title_suffix=''):\n",
    "    sorted_idx = np.argsort(abs(coefs))\n",
    "    pos = np.arange(len(coefs)) + .5\n",
    "    plt.subplot(1, 2, 2)\n",
    "    plt.barh(pos, coefs[sorted_idx], align='center')\n",
    "    plt.yticks(pos, np.array(training_columns)[sorted_idx])\n",
    "    plt.xlabel('Coef value')\n",
    "    plt.title('Coefficents' + title_suffix)\n",
    "    plt.xlim(-5.5, 5.5)\n",
    "    plt.show()\n",
    "\n",
    "# use scaled model\n",
    "lr.fit(X, Y)\n",
    "print_coefs(lr.coef_, training_columns)\n",
    "plot_coefs(lr.coef_, training_columns)\n",
    "\n",
    "\"\"\""
   ]
  },
  {
   "cell_type": "markdown",
   "metadata": {},
   "source": [
    "\n",
    "### Simple decision tree"
   ]
  },
  {
   "cell_type": "code",
   "execution_count": 5,
   "metadata": {},
   "outputs": [
    {
     "name": "stdout",
     "output_type": "stream",
     "text": [
      "Best: -0.156712 using {'max_depth': 6, 'min_samples_leaf': 10}\n",
      "CART\n",
      "-0.15982791434990334\n",
      "Wrote output to ./auto_mpg.graphviz\n"
     ]
    }
   ],
   "source": [
    "\n",
    "\n",
    "from sklearn.tree import DecisionTreeRegressor\n",
    "from sklearn.tree import export_graphviz\n",
    "\n",
    "dt = DecisionTreeRegressor()\n",
    "\n",
    "# Grid search meta parameters\n",
    "param_grid = dict(min_samples_leaf=np.array([1,5,10,50,100,200]), max_depth=np.array([2,4,6,8,10]))\n",
    "kfold = KFold(n_splits=10, random_state=seed)\n",
    "grid = GridSearchCV(estimator=dt, param_grid=param_grid, cv=kfold, scoring='neg_mean_squared_error')\n",
    "grid_result = grid.fit(X, Y)\n",
    "\n",
    "# Evaluate best model\n",
    "print(\"Best: %f using %s\" % (grid_result.best_score_, grid_result.best_params_))\n",
    "dt = DecisionTreeRegressor(**grid_result.best_params_)\n",
    "scores = cross_val_score(dt, X, Y, cv=kfold, scoring='neg_mean_squared_error')\n",
    "print('CART')\n",
    "cart_mean_error=scores.mean()\n",
    "print(scores.mean())\n",
    "\n",
    "# Serialize tree structure for investigation\n",
    "dt.fit(X, Y)\n",
    "output_file = './auto_mpg.graphviz'\n",
    "export_graphviz(dt, out_file=output_file, feature_names = X.columns)\n",
    "print(\"Wrote output to \" + output_file)\n"
   ]
  },
  {
   "cell_type": "markdown",
   "metadata": {},
   "source": [
    "**Evaluation results:\n",
    "The cross-validated mean squared error is for our CART tree is approximately -0.15898986807217172. This is worse than the linear model.**\n"
   ]
  },
  {
   "cell_type": "markdown",
   "metadata": {},
   "source": [
    "\n",
    "### Gradient Boosting Trees\n"
   ]
  },
  {
   "cell_type": "code",
   "execution_count": 6,
   "metadata": {},
   "outputs": [
    {
     "name": "stdout",
     "output_type": "stream",
     "text": [
      "GBT\n",
      "-0.14577162069822247\n"
     ]
    },
    {
     "data": {
      "image/png": "[encoded data removed]",
      "text/plain": [
       "<Figure size 432x288 with 1 Axes>"
      ]
     },
     "metadata": {
      "needs_background": "light"
     },
     "output_type": "display_data"
    }
   ],
   "source": [
    "\n",
    "from sklearn.ensemble import GradientBoostingRegressor\n",
    "\n",
    "scores = cross_val_score(GradientBoostingRegressor(), X, Y, cv=kfold, scoring='neg_mean_squared_error')\n",
    "print('GBT')\n",
    "print(scores.mean())\n",
    "\n",
    "clf = GradientBoostingRegressor()\n",
    "clf.fit(X, Y)\n",
    "\n",
    "feature_importance = clf.feature_importances_\n",
    "# make importances relative to max importance\n",
    "feature_importance = 100.0 * (feature_importance / feature_importance.max())\n",
    "\n",
    "gb_mean_error=scores.mean()\n",
    "sorted_idx = np.argsort(feature_importance)\n",
    "pos = np.arange(sorted_idx.shape[0]) + .5\n",
    "plt.subplot(1, 2, 2)\n",
    "plt.barh(pos, feature_importance[sorted_idx], align='center')\n",
    "plt.yticks(pos, X.columns[sorted_idx])\n",
    "plt.xlabel('Relative Importance')\n",
    "plt.title('GBT Variable Importance')\n",
    "plt.show()"
   ]
  },
  {
   "cell_type": "markdown",
   "metadata": {},
   "source": [
    "\n",
    "**Evaluation results and insights\n",
    "The cross-validated mean squared error from GBT is approximately -0.14789370. This is better than the simple decision tree but worse than linear model**"
   ]
  },
  {
   "cell_type": "markdown",
   "metadata": {},
   "source": [
    "\n",
    "### Logistic model tree"
   ]
  },
  {
   "cell_type": "code",
   "execution_count": 17,
   "metadata": {},
   "outputs": [
    {
     "data": {
      "text/plain": [
       "((303, 13), (303,))"
      ]
     },
     "execution_count": 17,
     "metadata": {},
     "output_type": "execute_result"
    }
   ],
   "source": [
    "X.shape ,Y.shape"
   ]
  },
  {
   "cell_type": "code",
   "execution_count": 18,
   "metadata": {
    "scrolled": true
   },
   "outputs": [
    {
     "name": "stdout",
     "output_type": "stream",
     "text": [
      "0.4488448844884489\n"
     ]
    }
   ],
   "source": [
    "import import_ipynb\n",
    "import lmtmodel\n",
    "from lmtmodel import LinearModelTree\n",
    "from sklearn.metrics import mean_squared_error\n",
    "from sklearn.linear_model import LogisticRegression\n",
    " \n",
    "\n",
    "shared_scaler = StandardScaler()\n",
    "shared_scaler.fit(X)\n",
    "X = dataX\n",
    "Y = datay\n",
    "def fit_linear_model(x, y):\n",
    "    lr = LogisticRegression()\n",
    "    lr.fit(shared_scaler.transform(x), y)\n",
    "    return SharedScalerModel(shared_scaler, lr)\n",
    "\n",
    "class SharedScalerModel:\n",
    "    \n",
    "    def __init__(self, scaler, lm):\n",
    "        self.scaler = scaler\n",
    "        self.lm = lm\n",
    "        self.coef_ = lm.coef_\n",
    "        self.intercept_ = lm.intercept_\n",
    "        \n",
    "    def predict(self, X):\n",
    "        return self.lm.predict(self.scaler.transform(X))\n",
    "\n",
    "\n",
    "MIN_NODE_SIZE =40\n",
    "#best_score={}\n",
    "#best_min_split_improvement=[0.003,0.01,0.05,0.1,0.2,0.5]\n",
    "\n",
    "#for MIN_SPLIT_IMPROVEMENT in best_min_split_improvement :\n",
    "MIN_SPLIT_IMPROVEMENT=0.1\n",
    "lmt = LinearModelTree(MIN_NODE_SIZE, fit_linear_model, min_split_improvement=MIN_SPLIT_IMPROVEMENT)\n",
    "\n",
    "kfold = KFold(n_splits=3, random_state=seed)\n",
    "scores = []\n",
    "for train_index, test_index in kfold.split(X):\n",
    "\n",
    "    X_train, X_test = X.iloc[train_index], X.iloc[test_index]\n",
    "    y_train, y_test = Y[train_index], Y[test_index] \n",
    "    lmt.build_tree(X_train.values, X_train, y_train.values)\n",
    "    y_pred = lmt.predict(X_test.values, X_test)\n",
    "    mse = mean_squared_error(y_test, y_pred)\n",
    "    scores.append(mse)\n",
    "print(np.array(scores).mean())\n",
    "#best_score"
   ]
  },
  {
   "cell_type": "code",
   "execution_count": null,
   "metadata": {},
   "outputs": [],
   "source": []
  },
  {
   "cell_type": "markdown",
   "metadata": {},
   "source": [
    "### Build a tree on the full dataset, and serialize it to see the feature splits"
   ]
  },
  {
   "cell_type": "code",
   "execution_count": 19,
   "metadata": {
    "scrolled": false
   },
   "outputs": [
    {
     "name": "stdout",
     "output_type": "stream",
     "text": [
      "7\n",
      "152.0\n",
      "not none\n",
      "2\n",
      "2.0\n",
      "not none\n",
      "4\n",
      "237.0\n",
      "not none\n",
      "None\n",
      "None\n",
      "43 [-1.11084901  0.15123862 -0.33402519] [[ 2.34344693e-01 -6.04589865e-01  7.14662464e-01  1.18891729e-01\n",
      "   8.95589851e-01 -1.28828738e-01  7.26007807e-02  8.37357152e-01\n",
      "   4.23506267e-01 -5.74550137e-01 -9.90413671e-02 -4.47858751e-01\n",
      "   5.06030663e-02]\n",
      " [-7.32251489e-04 -2.79656832e-01 -2.22305439e-01  1.43605246e-01\n",
      "  -1.22355391e+00  3.47351020e-02 -2.44669343e-01 -5.58445920e-01\n",
      "  -4.85637748e-01  3.36650242e-01 -3.81617478e-01 -7.91681070e-02\n",
      "   2.95444386e-01]\n",
      " [-2.71325313e-01  7.04030281e-01  3.62429340e-01 -1.88909271e-01\n",
      "   1.35930316e+00 -4.09047132e-02  1.10676911e-01  4.20733956e-01\n",
      "   2.13810085e-01 -1.28300284e-02  6.14454689e-01  2.59920633e-01\n",
      "  -3.47853386e-01]]\n"
     ]
    },
    {
     "ename": "TypeError",
     "evalue": "only size-1 arrays can be converted to Python scalars",
     "output_type": "error",
     "traceback": [
      "\u001b[1;31m---------------------------------------------------------------------------\u001b[0m",
      "\u001b[1;31mTypeError\u001b[0m                                 Traceback (most recent call last)",
      "\u001b[1;32m<ipython-input-19-1f9d80d00ff4>\u001b[0m in \u001b[0;36m<module>\u001b[1;34m\u001b[0m\n\u001b[0;32m      3\u001b[0m \u001b[0mlmt_1\u001b[0m\u001b[1;33m.\u001b[0m\u001b[0mbuild_tree\u001b[0m\u001b[1;33m(\u001b[0m\u001b[0mX\u001b[0m\u001b[1;33m.\u001b[0m\u001b[0mvalues\u001b[0m\u001b[1;33m,\u001b[0m\u001b[0mX\u001b[0m\u001b[1;33m,\u001b[0m \u001b[0mY\u001b[0m\u001b[1;33m.\u001b[0m\u001b[0mvalues\u001b[0m\u001b[1;33m)\u001b[0m\u001b[1;33m\u001b[0m\u001b[1;33m\u001b[0m\u001b[0m\n\u001b[0;32m      4\u001b[0m \u001b[1;33m\u001b[0m\u001b[0m\n\u001b[1;32m----> 5\u001b[1;33m \u001b[0mlmt_1\u001b[0m\u001b[1;33m.\u001b[0m\u001b[0mserialize\u001b[0m\u001b[1;33m(\u001b[0m\u001b[1;33m)\u001b[0m\u001b[1;33m\u001b[0m\u001b[1;33m\u001b[0m\u001b[0m\n\u001b[0m",
      "\u001b[1;32m~\\Project 3\\heart diseases\\lmtmodel.ipynb\u001b[0m in \u001b[0;36mserialize\u001b[1;34m(self)\u001b[0m\n",
      "\u001b[1;32m~\\Project 3\\heart diseases\\lmtmodel.ipynb\u001b[0m in \u001b[0;36mserialize\u001b[1;34m(self, prefix)\u001b[0m\n",
      "\u001b[1;32m~\\Project 3\\heart diseases\\lmtmodel.ipynb\u001b[0m in \u001b[0;36mserialize\u001b[1;34m(self, prefix)\u001b[0m\n",
      "\u001b[1;32m~\\Project 3\\heart diseases\\lmtmodel.ipynb\u001b[0m in \u001b[0;36mserialize\u001b[1;34m(self, prefix)\u001b[0m\n",
      "\u001b[1;32m~\\Project 3\\heart diseases\\lmtmodel.ipynb\u001b[0m in \u001b[0;36mserialize\u001b[1;34m(self, prefix)\u001b[0m\n",
      "\u001b[1;31mTypeError\u001b[0m: only size-1 arrays can be converted to Python scalars"
     ]
    }
   ],
   "source": [
    "\n",
    "lmt_1= LinearModelTree(MIN_NODE_SIZE, fit_linear_model, MIN_SPLIT_IMPROVEMENT)\n",
    "lmt_1.build_tree(X.values,X, Y.values)\n",
    "\n",
    "lmt_1.serialize()"
   ]
  },
  {
   "cell_type": "code",
   "execution_count": 16,
   "metadata": {},
   "outputs": [
    {
     "name": "stdout",
     "output_type": "stream",
     "text": [
      "thalach\n",
      "cp\n"
     ]
    },
    {
     "data": {
      "text/plain": [
       "(None, None)"
      ]
     },
     "execution_count": 16,
     "metadata": {},
     "output_type": "execute_result"
    }
   ],
   "source": []
  },
  {
   "cell_type": "code",
   "execution_count": null,
   "metadata": {},
   "outputs": [],
   "source": [
    "# the model split on 2 features : "
   ]
  },
  {
   "cell_type": "code",
   "execution_count": null,
   "metadata": {},
   "outputs": [],
   "source": [
    "\n",
    "\n",
    "root_lm = lmt.root.lm\n",
    "node_1_coef = root_lm.coef_ + lmt.root.left.lm.coef_\n",
    "plot_coefs(node_1_coef, training_columns, ' (horsepower < 78)')\n",
    "\n",
    "right_coef = lmt.root.right.lm.coef_\n",
    "node_2_coef = root_lm.coef_ + right_coef + lmt.root.right.left.lm.coef_\n",
    "plot_coefs(node_2_coef, training_columns, ' (horsepower >= 78 & horsepower < 97)')\n",
    "\n",
    "\n",
    "node_3_coef = root_lm.coef_ + right_coef + lmt.root.right.right.lm.coef_\n",
    "plot_coefs(node_3_coef, training_columns, ' (horsepower >= 97)')\n",
    "\n",
    "\n",
    "print_coefs(node_1_coef, training_columns)\n",
    "print('')\n",
    "print_coefs(node_2_coef, training_columns)\n",
    "print('')\n",
    "print_coefs(node_3_coef, training_columns)\n",
    "\n",
    "\n",
    "\n",
    "displacement: -5.186292\n",
    "model_year: 4.287827\n",
    "weight: -4.287711\n",
    "horsepower: -1.605432\n",
    "cylinders: 0.685287\n",
    "acceleration: 0.608814\n",
    "\n",
    "weight: -5.522914\n",
    "model_year: 2.410542\n",
    "horsepower: -1.416881\n",
    "acceleration: -0.805342\n",
    "cylinders: -0.311572\n",
    "displacement: -0.156405\n",
    "\n",
    "weight: -2.154847\n",
    "model_year: 1.428982\n",
    "horsepower: -1.089580\n",
    "displacement: 1.041145\n",
    "cylinders: -0.867039\n",
    "acceleration: -0.200428\n",
    "In [430]:\n",
    "rows = 1\n",
    "cols = 3\n",
    "coefs = [\n",
    "    node_1_coef,\n",
    "    node_2_coef,\n",
    "    node_3_coef,\n",
    "]\n",
    "titles = ['Low power', 'Medium power', 'High power']\n",
    "f, axs = plt.subplots(rows, cols, sharex='col', figsize=(12, 4))\n",
    "for col in range(cols):\n",
    "    pos = np.arange(len(coefs[col])) + .5\n",
    "    axs[col].barh(pos, coefs[col], align='center')\n",
    "    axs[col].set_yticks(pos)\n",
    "    axs[col].set_yticklabels(np.array(training_columns))\n",
    "    axs[col].set_xlabel('Coef value')\n",
    "    axs[col].set_title(titles[col])\n",
    "    axs[col].set_xlim(-5.5, 5.5)\n",
    "\n",
    "f.tight_layout()\n",
    "\n",
    "In [434]:\n",
    "import numpy as np\n",
    "import matplotlib.pyplot as plt\n",
    "import seaborn as sns\n",
    "\n",
    "sns.set_style(\"white\")\n",
    "\n",
    "def gen(n=40):\n",
    "    return np.random.normal(size=n)\n",
    "\n",
    "rows, cols = 3, 5\n",
    "\n",
    "fsize = 15\n",
    "\n",
    "rownames = ['low power', 'medium power', 'high power']\n",
    "subpop_data = [\n",
    "    df.query('horsepower < 78'),\n",
    "    df.query('horsepower >= 78 & horsepower < 97'),\n",
    "    df.query('horsepower >= 97'),\n",
    "]\n",
    "\n",
    "cmap = sns.color_palette(\"Set2\", cols)\n",
    "\n",
    "f, axs = plt.subplots(rows, cols, sharex='col', figsize=(15, 6))\n",
    "\n",
    "for i in range(rows):\n",
    "    for j in range(cols):\n",
    "        _ = axs[i,j].hist(subpop_data[i][training_columns[j]], histtype='step', color=cmap[j])\n",
    "        axs[i,j].set_xticks([])\n",
    "        axs[i,j].set_yticks([])\n",
    "        left, right = _[1][0], _[1][-1]\n",
    "        \n",
    "        # black dots\n",
    "        axs[i,j].scatter(left, 0, c='black', s=15)\n",
    "        axs[i,j].scatter(right, 0, c='black', s=15)\n",
    "        \n",
    "        # min,max annotations\n",
    "        axs[i,j].annotate(str(int(left)), \n",
    "                          xy=(left, 0), \n",
    "                          xytext=(-5, -20),\n",
    "                          textcoords='offset points')\n",
    "        \n",
    "        axs[i,j].annotate(str(int(right)), \n",
    "                          xy=(right, 0), \n",
    "                          xytext=(-5, -20),\n",
    "                          textcoords='offset points')\n",
    "        \n",
    "        if i == 0:\n",
    "            axs[i,j].set_xlabel(training_columns[j], labelpad=15, size=fsize)\n",
    "            axs[i,j].xaxis.set_label_position('top')\n",
    "            \n",
    "        if j == 0:\n",
    "            axs[i,j].set_ylabel(rownames[i], size=fsize)\n",
    "\n",
    "f.subplots_adjust(hspace=1.5)\n",
    "sns.despine(left=True, bottom=True)\n"
   ]
  },
  {
   "cell_type": "code",
   "execution_count": null,
   "metadata": {},
   "outputs": [],
   "source": []
  }
 ],
 "metadata": {
  "kernelspec": {
   "display_name": "Python 3",
   "language": "python",
   "name": "python3"
  },
  "language_info": {
   "codemirror_mode": {
    "name": "ipython",
    "version": 3
   },
   "file_extension": ".py",
   "mimetype": "text/x-python",
   "name": "python",
   "nbconvert_exporter": "python",
   "pygments_lexer": "ipython3",
   "version": "3.6.8"
  }
 },
 "nbformat": 4,
 "nbformat_minor": 2
}
